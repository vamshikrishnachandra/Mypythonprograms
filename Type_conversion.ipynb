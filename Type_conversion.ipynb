{
 "cells": [
  {
   "cell_type": "code",
   "execution_count": 1,
   "metadata": {},
   "outputs": [
    {
     "name": "stdout",
     "output_type": "stream",
     "text": [
      "9\n"
     ]
    }
   ],
   "source": [
    "#write a program to print the sum of two integers inputs A and B \n",
    "a = input()\n",
    "b = input()\n",
    "a = int(a)\n",
    "b = int(b)\n",
    "print(a+b)"
   ]
  },
  {
   "cell_type": "code",
   "execution_count": 2,
   "metadata": {},
   "outputs": [
    {
     "name": "stdout",
     "output_type": "stream",
     "text": [
      "5.0\n"
     ]
    }
   ],
   "source": [
    "#write a program that reads two numbers A and B and prints the division of two numbers(A/B)\n",
    "num1 = int(input())\n",
    "num2 = int(input()) \n",
    "print(num1/num2)"
   ]
  },
  {
   "cell_type": "code",
   "execution_count": 3,
   "metadata": {},
   "outputs": [
    {
     "name": "stdout",
     "output_type": "stream",
     "text": [
      "12\n"
     ]
    }
   ],
   "source": [
    "#Write a program to calculate the area of the Rectangle. Note: Area of Rectangle = Length of Rectangle x Breadth of Rectangle.\n",
    "length = int(input())\n",
    "breadth = int(input()) \n",
    "Area_of_rectangle = length*breadth\n",
    "print(Area_of_rectangle)"
   ]
  },
  {
   "cell_type": "code",
   "execution_count": 5,
   "metadata": {},
   "outputs": [
    {
     "name": "stdout",
     "output_type": "stream",
     "text": [
      "14\n"
     ]
    }
   ],
   "source": [
    "#We need to write a program that calculates the perimeter of a rectangle. The formula to calculate the perimeter of a rectangle is:\n",
    "#Perimeter = 2 × (Length + Breadth)\n",
    "length = int(input())\n",
    "breadth = int(input()) \n",
    "Perimeter_of_rectangle = 2 * (length+breadth)\n",
    "print(Perimeter_of_rectangle)"
   ]
  },
  {
   "cell_type": "code",
   "execution_count": 7,
   "metadata": {},
   "outputs": [
    {
     "name": "stdout",
     "output_type": "stream",
     "text": [
      "5\n"
     ]
    }
   ],
   "source": [
    "#Write a program that reads two numbers A and B and prints the division of two numbers (A / B) as an integer.\n",
    "num1 = int(input())\n",
    "num2 = int(input()) \n",
    "print(int(num1/num2))"
   ]
  },
  {
   "cell_type": "code",
   "execution_count": null,
   "metadata": {},
   "outputs": [],
   "source": [
    "# Write a program that reads two numbers A and B and prints the subtraction of two numbers (A - B).\n",
    "a = input()\n",
    "b = input()\n",
    "a = int(a)\n",
    "b = int(b)\n",
    "print(a-b)"
   ]
  },
  {
   "cell_type": "code",
   "execution_count": 8,
   "metadata": {},
   "outputs": [
    {
     "name": "stdout",
     "output_type": "stream",
     "text": [
      "70\n"
     ]
    }
   ],
   "source": [
    "#Write a program that reads the percentage of girls in a class and prints the percentage of boys in the class. The total percentage of boys and girls in a class is 100.\n",
    "girls_percentage = int(input())\n",
    "boys_percentage = 100 - girls_percentage\n",
    "print(boys_percentage)"
   ]
  },
  {
   "cell_type": "code",
   "execution_count": 11,
   "metadata": {},
   "outputs": [
    {
     "name": "stdout",
     "output_type": "stream",
     "text": [
      "Sum: 5.0\n"
     ]
    }
   ],
   "source": [
    "#Write a program that reads two numbers and prints the sum of two numbers in the given format.\n",
    "num1 = float(input())\n",
    "num2 = float(input())\n",
    "sum_of_numbers = num1 + num2 \n",
    "print(\"Sum: \"+ str(sum_of_numbers))"
   ]
  },
  {
   "cell_type": "code",
   "execution_count": 14,
   "metadata": {},
   "outputs": [
    {
     "name": "stdout",
     "output_type": "stream",
     "text": [
      "1200\n"
     ]
    }
   ],
   "source": [
    "#write a program that takes the number of kilometers as input and converts it into meters. The conversion formula is:\n",
    "# 1 kilometer = 1000 meters\n",
    "kilometer = float(input())\n",
    "convert_into_meters = 1000 * kilometer\n",
    "print(int(convert_into_meters))\n"
   ]
  },
  {
   "cell_type": "code",
   "execution_count": 15,
   "metadata": {},
   "outputs": [
    {
     "name": "stdout",
     "output_type": "stream",
     "text": [
      "100.0\n"
     ]
    }
   ],
   "source": [
    "#write a program that reads a percentage P and prints the percentage p of the number 200.\n",
    "number = int(input())\n",
    "value = (number/100) * 200 \n",
    "print(value)"
   ]
  },
  {
   "cell_type": "code",
   "execution_count": 17,
   "metadata": {},
   "outputs": [
    {
     "name": "stdout",
     "output_type": "stream",
     "text": [
      "1\n"
     ]
    }
   ],
   "source": [
    "# write a program that reads a dividend and a divisor, calculates the remainder, and then prints the remainder.\n",
    "dividend = int(input())\n",
    "divisor = int(input())\n",
    "quotient = dividend // divisor\n",
    "remainder = dividend % divisor\n",
    "# print(quotient)\n",
    "print(remainder) "
   ]
  },
  {
   "cell_type": "code",
   "execution_count": 20,
   "metadata": {},
   "outputs": [
    {
     "name": "stdout",
     "output_type": "stream",
     "text": [
      "6\n"
     ]
    }
   ],
   "source": [
    "#write a program that prints the sum of the digits of a given three-digit number.\n",
    "a = input()\n",
    "sum_of_number = int(a[0])+int(a[1])+int(a[2])\n",
    "print(sum_of_number)"
   ]
  },
  {
   "cell_type": "code",
   "execution_count": 21,
   "metadata": {},
   "outputs": [
    {
     "name": "stdout",
     "output_type": "stream",
     "text": [
      "o\n"
     ]
    }
   ],
   "source": [
    "#Given a word W and an integer N, write a program to print the character present at the index N in the word W.\n",
    "W = input()\n",
    "N = int(input())\n",
    "print(W[N])"
   ]
  },
  {
   "cell_type": "code",
   "execution_count": 22,
   "metadata": {},
   "outputs": [
    {
     "name": "stdout",
     "output_type": "stream",
     "text": [
      "MathsMaths\n"
     ]
    }
   ],
   "source": [
    "#Given a word and a number N, write a program to print the given word, N number of times in a single line.\n",
    "word = input()\n",
    "N = int(input()) \n",
    "print(word*N)"
   ]
  },
  {
   "cell_type": "code",
   "execution_count": 23,
   "metadata": {},
   "outputs": [
    {
     "name": "stdout",
     "output_type": "stream",
     "text": [
      "Fou\n"
     ]
    }
   ],
   "source": [
    "# write a program that reads a single line of input and prints the first three characters in it.\n",
    "word = input()\n",
    "print(word[:3])"
   ]
  },
  {
   "cell_type": "code",
   "execution_count": 24,
   "metadata": {},
   "outputs": [
    {
     "name": "stdout",
     "output_type": "stream",
     "text": [
      "happy\n"
     ]
    }
   ],
   "source": [
    "#write a program that takes in a word and an index, and prints a part of the word starting from the given index till the end of the word.\n",
    "word = input()\n",
    "start_index = int(input())\n",
    "print(word[start_index:])"
   ]
  },
  {
   "cell_type": "code",
   "execution_count": 3,
   "metadata": {},
   "outputs": [
    {
     "name": "stdout",
     "output_type": "stream",
     "text": [
      "wing\n"
     ]
    }
   ],
   "source": [
    "# write a program that reads a word and two indices (X, Y). The program should print a part of the word from the index X to the index Y. \n",
    "word = input()\n",
    "start_index = int(input())\n",
    "end_index = int(input())\n",
    "print(word[start_index:end_index+1])\n"
   ]
  },
  {
   "cell_type": "code",
   "execution_count": 5,
   "metadata": {},
   "outputs": [
    {
     "name": "stdout",
     "output_type": "stream",
     "text": [
      "Super\n"
     ]
    }
   ],
   "source": [
    "#Write a program that reads a word and a number N and prints the first N characters of the word.\n",
    "word = input()\n",
    "first_cahacter = int(input())\n",
    "print(word[:first_cahacter])"
   ]
  },
  {
   "cell_type": "code",
   "execution_count": 7,
   "metadata": {},
   "outputs": [
    {
     "name": "stdout",
     "output_type": "stream",
     "text": [
      "give\n"
     ]
    }
   ],
   "source": [
    "#Write a program that reads a word and a number N and prints the last N characters of the word.\n",
    "word = input() \n",
    "last_index = int(input())\n",
    "print(word[len(word)-last_index:])"
   ]
  },
  {
   "cell_type": "code",
   "execution_count": 8,
   "metadata": {},
   "outputs": [
    {
     "name": "stdout",
     "output_type": "stream",
     "text": [
      "63\n"
     ]
    }
   ],
   "source": [
    "#Write a program that reads a string and prints the second part of the string that has digits.\n",
    "a = input()\n",
    "print(a[2:])"
   ]
  },
  {
   "cell_type": "code",
   "execution_count": 11,
   "metadata": {},
   "outputs": [
    {
     "name": "stdout",
     "output_type": "stream",
     "text": [
      "10\n"
     ]
    }
   ],
   "source": [
    "#Write a program that reads a string and prints the first part of the string that has numbers.\n",
    "a = input()\n",
    "print(a[:len(a)-1])"
   ]
  },
  {
   "cell_type": "code",
   "execution_count": 14,
   "metadata": {},
   "outputs": [
    {
     "name": "stdout",
     "output_type": "stream",
     "text": [
      "Ama\n"
     ]
    }
   ],
   "source": [
    "#Write a program that reads a string and prints the first half part of the string.\n",
    "word = input()\n",
    "half_word = int(len(word)/2) \n",
    "print(word[:half_word])"
   ]
  },
  {
   "cell_type": "code",
   "execution_count": 18,
   "metadata": {},
   "outputs": [
    {
     "name": "stdout",
     "output_type": "stream",
     "text": [
      "honhonhonhon\n"
     ]
    }
   ],
   "source": [
    "#Given a word and a number (N), write a program to print the last three characters of the word N times in a single line.\n",
    "word = input()\n",
    "rep = int(input()) \n",
    "last_three_digits = word[-3:]\n",
    "print(last_three_digits*rep)"
   ]
  },
  {
   "cell_type": "code",
   "execution_count": 20,
   "metadata": {},
   "outputs": [
    {
     "name": "stdout",
     "output_type": "stream",
     "text": [
      "message message message \n"
     ]
    }
   ],
   "source": [
    "#You are given a string. Repeat the same string N times separated by space.\n",
    "word = input() \n",
    "repartion = int(input())\n",
    "res = (word + \" \")*repartion\n",
    "print(res)"
   ]
  },
  {
   "cell_type": "code",
   "execution_count": 24,
   "metadata": {},
   "outputs": [
    {
     "name": "stdout",
     "output_type": "stream",
     "text": [
      "me***ge\n"
     ]
    }
   ],
   "source": [
    "#Write a program that reads a word and prints the first two and the last two letters of the word and prints the stars (*) instead of the remaining letters.\n",
    "word = input()\n",
    "first_character = word[:2]\n",
    "last_character = word[-2:]\n",
    "char = \"*\" *(len(word)-4) \n",
    "print(first_character+char+last_character)"
   ]
  },
  {
   "cell_type": "code",
   "execution_count": 29,
   "metadata": {},
   "outputs": [
    {
     "name": "stdout",
     "output_type": "stream",
     "text": [
      "Lisen\n"
     ]
    }
   ],
   "source": [
    "#Write a program that reads a word and prints the word excluding the fourth letter of the word.\n",
    "word = \"Listen\"\n",
    "first_letter = word[:3]\n",
    "last_letter = word[4:]\n",
    "print(first_letter+last_letter)"
   ]
  },
  {
   "cell_type": "code",
   "execution_count": 31,
   "metadata": {},
   "outputs": [
    {
     "name": "stdout",
     "output_type": "stream",
     "text": [
      "Combne\n"
     ]
    }
   ],
   "source": [
    "#Your'e given a word and an index postion of a character.You need to write a program that print the given word without the character at the given index\n",
    "word = input()\n",
    "skip_character = int(input())\n",
    "first = word[:skip_character]\n",
    "last = word[skip_character+1:]\n",
    "print(first+last)"
   ]
  },
  {
   "cell_type": "code",
   "execution_count": 32,
   "metadata": {},
   "outputs": [
    {
     "name": "stdout",
     "output_type": "stream",
     "text": [
      "###\n",
      "###\n",
      "###\n"
     ]
    }
   ],
   "source": [
    "#Write a program that reads a word and prints the word excluding the fourth letter of the word.\n",
    "print(\"#\"+\"#\"+\"#\")\n",
    "print(\"#\"+\"#\"+\"#\")\n",
    "print(\"#\"+\"#\"+\"#\")"
   ]
  },
  {
   "cell_type": "code",
   "execution_count": 33,
   "metadata": {},
   "outputs": [
    {
     "name": "stdout",
     "output_type": "stream",
     "text": [
      "+\n",
      "++\n",
      "+++\n"
     ]
    }
   ],
   "source": [
    "#write a program that creates a simple triangle using the plus (+) symbol. \n",
    "print(\"+\")\n",
    "print(\"+\"+\"+\")\n",
    "print(\"+\"+\"+\"+\"+\")"
   ]
  },
  {
   "cell_type": "code",
   "execution_count": 34,
   "metadata": {},
   "outputs": [
    {
     "name": "stdout",
     "output_type": "stream",
     "text": [
      "* * * * \n",
      "* * * * \n",
      "* * * * \n"
     ]
    }
   ],
   "source": [
    "#write a program that reads a number N and prints three lines with each line containing N stars (*). \n",
    "#There is a space after each star.\n",
    "lines = int(input())\n",
    "print(\"* \" * lines)\n",
    "print(\"* \" * lines)\n",
    "print(\"* \" * lines)\n"
   ]
  },
  {
   "cell_type": "code",
   "execution_count": 36,
   "metadata": {},
   "outputs": [
    {
     "name": "stdout",
     "output_type": "stream",
     "text": [
      "+ + + + + + + + + + + + + + + + + + + + + + + + + + + + + + + + + + + + + + + + + + + + \n",
      "+ + + + + + + + + + + + + + + + + + + + + + + + + + + + + + + + + + + + + + + + + + + + \n",
      "+ + + + + + + + + + + + + + + + + + + + + + + + + + + + + + + + + + + + + + + + + + + + \n"
     ]
    }
   ],
   "source": [
    "#write a program that reads a number N and prints three lines with each line containing N pluses (+ )\n",
    "number = int(input())\n",
    "print(\"+ \" * number)\n",
    "print(\"+ \" * number)\n",
    "print(\"+ \" * number)"
   ]
  },
  {
   "cell_type": "code",
   "execution_count": 37,
   "metadata": {},
   "outputs": [
    {
     "name": "stdout",
     "output_type": "stream",
     "text": [
      "7\n",
      "1\n",
      "12\n"
     ]
    }
   ],
   "source": [
    "#writa a program to take two integer inputs inputs (say A and B) and prints the result of the folloeig operations:\n",
    "#1.Addtion \n",
    "#2.Subraction\n",
    "#3.Multiplication \n",
    "num1 = int(input())\n",
    "num2 = int(input()) \n",
    "print(num1 + num2)\n",
    "print(num1 - num2)\n",
    "print(num1 * num2)"
   ]
  },
  {
   "cell_type": "code",
   "execution_count": 38,
   "metadata": {},
   "outputs": [
    {
     "name": "stdout",
     "output_type": "stream",
     "text": [
      "140.0\n"
     ]
    }
   ],
   "source": [
    "#write a program that reads a number N . N is divided into two parts X and Y\n",
    "num = int(input())\n",
    "remaining_percentage = 70/100*num \n",
    "print(remaining_percentage)"
   ]
  },
  {
   "cell_type": "code",
   "execution_count": 42,
   "metadata": {},
   "outputs": [
    {
     "name": "stdout",
     "output_type": "stream",
     "text": [
      "Area of the square is: 9\n",
      "Perimeter of the square: 12\n"
     ]
    }
   ],
   "source": [
    "#You are given a side of a square as input.Write a program to find the perimeter and area of te square.\n",
    "side = int(input())\n",
    "Area_of_square = side*side\n",
    "perimeter_of_square = 4 * side \n",
    "print(\"Area of the square is: \" + str(Area_of_square))\n",
    "print(\"Perimeter of the square: \" + str(perimeter_of_square))"
   ]
  },
  {
   "cell_type": "code",
   "execution_count": 2,
   "metadata": {},
   "outputs": [
    {
     "name": "stdout",
     "output_type": "stream",
     "text": [
      "+ + + + \n",
      "+ + + + \n",
      "+ + + + \n"
     ]
    }
   ],
   "source": [
    "#write a program that reads a number N and print three lines with each line containing N  plues(+)\n",
    "n = int(input())\n",
    "print(\"+ \" * n)\n",
    "print(\"+ \" * n)\n",
    "print(\"+ \" * n)"
   ]
  },
  {
   "cell_type": "code",
   "execution_count": 3,
   "metadata": {},
   "outputs": [
    {
     "name": "stdout",
     "output_type": "stream",
     "text": [
      "***way\n"
     ]
    }
   ],
   "source": [
    "#Write a program that reads word w1 and w2 w1 containing two parts.The first part contains w2 and the second part contains  the remaining letter in w1 \n",
    "# print w1 with the first part as stars(*)\n",
    "w1 = input()\n",
    "w2 = input() \n",
    "length_of_w2 = len(w2)\n",
    "print(\"*\"*length_of_w2+w1[length_of_w2:])"
   ]
  },
  {
   "cell_type": "code",
   "execution_count": 4,
   "metadata": {},
   "outputs": [
    {
     "name": "stdout",
     "output_type": "stream",
     "text": [
      "Soft\n"
     ]
    }
   ],
   "source": [
    "#write a program that reads a string A and prints the string A by excluding the first two and last two characters of the string.\n",
    "a = input()\n",
    "print(a[2:-2])"
   ]
  },
  {
   "cell_type": "code",
   "execution_count": 5,
   "metadata": {},
   "outputs": [
    {
     "name": "stdout",
     "output_type": "stream",
     "text": [
      "PriZe\n"
     ]
    }
   ],
   "source": [
    "#write a program that reads a word w an index I and a letter C.Print the word w by replacing the letter at the index I with the given letter C.\n",
    "word = input()\n",
    "index = int(input())\n",
    "replace_char = input()\n",
    "before = word[:index]\n",
    "print(before+replace_char+word[index+1:])"
   ]
  },
  {
   "cell_type": "code",
   "execution_count": 7,
   "metadata": {},
   "outputs": [
    {
     "name": "stdout",
     "output_type": "stream",
     "text": [
      "ball\n"
     ]
    }
   ],
   "source": [
    "#write a program that reads a string and prints the second half part of the string.\n",
    "word = input()\n",
    "half_of_word = int(len(word)/2)\n",
    "print(word[half_of_word:])"
   ]
  }
 ],
 "metadata": {
  "kernelspec": {
   "display_name": "Python 3",
   "language": "python",
   "name": "python3"
  },
  "language_info": {
   "codemirror_mode": {
    "name": "ipython",
    "version": 3
   },
   "file_extension": ".py",
   "mimetype": "text/x-python",
   "name": "python",
   "nbconvert_exporter": "python",
   "pygments_lexer": "ipython3",
   "version": "3.12.2"
  }
 },
 "nbformat": 4,
 "nbformat_minor": 2
}
