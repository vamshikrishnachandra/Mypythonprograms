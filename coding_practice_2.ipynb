{
 "cells": [
  {
   "cell_type": "code",
   "execution_count": null,
   "metadata": {},
   "outputs": [],
   "source": [
    "# Write a program that reads a single line of input and print the given input.\n",
    "a = input()\n",
    "print(a)"
   ]
  },
  {
   "cell_type": "code",
   "execution_count": 1,
   "metadata": {},
   "outputs": [
    {
     "name": "stdout",
     "output_type": "stream",
     "text": [
      "Vamshi\n",
      "###\n"
     ]
    }
   ],
   "source": [
    "#  write a program that reads a word and prints the word and \"###\" on two separate lines.\n",
    "a = input()\n",
    "print(a)\n",
    "print(\"###\")"
   ]
  },
  {
   "cell_type": "code",
   "execution_count": 2,
   "metadata": {},
   "outputs": [
    {
     "name": "stdout",
     "output_type": "stream",
     "text": [
      "1\n",
      "2\n"
     ]
    }
   ],
   "source": [
    "# write a program that reads two words as input and prints them on two separate lines.\n",
    "a = input()\n",
    "b = input() \n",
    "print(a)\n",
    "print(b)"
   ]
  },
  {
   "cell_type": "code",
   "execution_count": 3,
   "metadata": {},
   "outputs": [
    {
     "name": "stdout",
     "output_type": "stream",
     "text": [
      "Krishna\n"
     ]
    }
   ],
   "source": [
    "# write code to read two lines of input and print the second line of input.\n",
    "first_word = input()\n",
    "second_word = input() \n",
    "print(second_word)"
   ]
  },
  {
   "cell_type": "code",
   "execution_count": null,
   "metadata": {},
   "outputs": [],
   "source": [
    "# Write a program that reads two lines of input and prints those two lines in the reverse order. \n",
    "# (Print the message given in the second line of input before the first line of input)\n",
    "first_word = input() \n",
    "second_word = input()  \n",
    "print(second_word)\n",
    "print(first_word)"
   ]
  },
  {
   "cell_type": "code",
   "execution_count": 4,
   "metadata": {},
   "outputs": [
    {
     "name": "stdout",
     "output_type": "stream",
     "text": [
      "Hello Vamshi\n"
     ]
    }
   ],
   "source": [
    "# write a  program that takes a word W as input and prints \"Hello\" followed by the given word W.\n",
    "word = input()\n",
    "print(\"Hello \" + word)"
   ]
  },
  {
   "cell_type": "code",
   "execution_count": 5,
   "metadata": {},
   "outputs": [
    {
     "name": "stdout",
     "output_type": "stream",
     "text": [
      "Given input:  Vamshi\n"
     ]
    }
   ],
   "source": [
    "# write code to read a single line of input and print the line after the message \"Given input: \".\n",
    "word = input() \n",
    "print(\"Given input: \",word)"
   ]
  },
  {
   "cell_type": "code",
   "execution_count": 6,
   "metadata": {},
   "outputs": [
    {
     "name": "stdout",
     "output_type": "stream",
     "text": [
      "milkshake\n"
     ]
    }
   ],
   "source": [
    "# write a program that reads two words and prints the resultant word by joining the two words.\n",
    "first_word = input()\n",
    "second_word = input()\n",
    "combined_word = first_word + second_word \n",
    "print(combined_word)"
   ]
  },
  {
   "cell_type": "code",
   "execution_count": 8,
   "metadata": {},
   "outputs": [
    {
     "name": "stdout",
     "output_type": "stream",
     "text": [
      "Vamshikrishna Chandra\n"
     ]
    }
   ],
   "source": [
    "# A job applicant is filling out an application form. He entered his first name and last name.\n",
    "# Your task is to print his full name by joining his first name and last name with a space.\n",
    "first_name = input()\n",
    "last_name = input()\n",
    "print(first_name + \" \" + last_name)"
   ]
  },
  {
   "cell_type": "code",
   "execution_count": 2,
   "metadata": {},
   "outputs": [
    {
     "name": "stdout",
     "output_type": "stream",
     "text": [
      "Vamshi is 24 years old\n"
     ]
    }
   ],
   "source": [
    "# Write a program that reads the name and age of a person and prints them in the given format.\n",
    "# Input\n",
    "# The first line of input contains a string.\n",
    "# The second line of input contains an integer.\n",
    "# Output\n",
    "# The output should be a single line containing a string in the format shown in the sample output.  \n",
    "Name = input()\n",
    "age = int(input())\n",
    "print(Name,\"is\", age ,\"years\",\"old\")"
   ]
  },
  {
   "cell_type": "code",
   "execution_count": 3,
   "metadata": {},
   "outputs": [
    {
     "name": "stdout",
     "output_type": "stream",
     "text": [
      "Vamshi Vamshi Vamshi \n"
     ]
    }
   ],
   "source": [
    "# write a program to print the given input word three times in a single separated by spaces.\n",
    "word = input()\n",
    "repeat = word + \" \"\n",
    "print(repeat*3)"
   ]
  },
  {
   "cell_type": "code",
   "execution_count": 6,
   "metadata": {},
   "outputs": [
    {
     "name": "stdout",
     "output_type": "stream",
     "text": [
      "**\n",
      "**\n"
     ]
    }
   ],
   "source": [
    "#  write a program that prints a simple square using the star (*) symbol.\n",
    "#  The square should have two stars on the first line and two stars on the second line\n",
    "print(\"**\")\n",
    "print(\"**\")"
   ]
  },
  {
   "cell_type": "code",
   "execution_count": 7,
   "metadata": {},
   "outputs": [
    {
     "name": "stdout",
     "output_type": "stream",
     "text": [
      "* *\n",
      "* *\n"
     ]
    }
   ],
   "source": [
    "#  write a program that prints a simple square with spaces\n",
    "print(\"*\",\"*\")\n",
    "print(\"*\",\"*\")"
   ]
  },
  {
   "cell_type": "code",
   "execution_count": 8,
   "metadata": {},
   "outputs": [
    {
     "name": "stdout",
     "output_type": "stream",
     "text": [
      "*\n",
      "**\n"
     ]
    }
   ],
   "source": [
    "#  write a program that prints a simple triangle\n",
    "print(\"*\")\n",
    "print(\"**\")"
   ]
  },
  {
   "cell_type": "code",
   "execution_count": null,
   "metadata": {},
   "outputs": [
    {
     "name": "stdout",
     "output_type": "stream",
     "text": [
      "* * * Vmshi * * *\n"
     ]
    }
   ],
   "source": [
    "# Write a program that reads a word and prints the word in \"   word   \" format.\n",
    "word = input()\n",
    "print(\"*\",\"*\",\"*\",word,\"*\",\"*\",\"*\")"
   ]
  },
  {
   "cell_type": "code",
   "execution_count": null,
   "metadata": {},
   "outputs": [],
   "source": [
    "#write a program that reads a word and prints the first character of the word\n",
    "word = input()\n",
    "print(word[0])"
   ]
  },
  {
   "cell_type": "code",
   "execution_count": 10,
   "metadata": {},
   "outputs": [
    {
     "name": "stdout",
     "output_type": "stream",
     "text": [
      "i\n"
     ]
    }
   ],
   "source": [
    "#write a program that reads a word and prints the last character of the word\n",
    "word = input()\n",
    "print(word[-1])"
   ]
  },
  {
   "cell_type": "code",
   "execution_count": 9,
   "metadata": {},
   "outputs": [
    {
     "name": "stdout",
     "output_type": "stream",
     "text": [
      "1\n",
      "4\n"
     ]
    }
   ],
   "source": [
    "#  Question: First & Last Digits\n",
    "# Given a four-digit number N as input. Write a program to print the first and last digit of the number. \n",
    "number = 1234 \n",
    "str_num = str(number)\n",
    "print(str_num[0])\n",
    "print(str_num[-1])"
   ]
  },
  {
   "cell_type": "code",
   "execution_count": 1,
   "metadata": {},
   "outputs": [
    {
     "name": "stdout",
     "output_type": "stream",
     "text": [
      "76\n"
     ]
    }
   ],
   "source": [
    "#Write a program to reverse the digit of a given two-digit number \n",
    "a = int(input())\n",
    "str_a = str(a)\n",
    "first_digit = str_a[0]\n",
    "second_digit = str_a[1] \n",
    "print(second_digit+first_digit)"
   ]
  },
  {
   "cell_type": "code",
   "execution_count": null,
   "metadata": {},
   "outputs": [],
   "source": [
    "#write a Python program to find the length of a string \n",
    "a = input()\n",
    "print(len(a))"
   ]
  },
  {
   "cell_type": "code",
   "execution_count": 2,
   "metadata": {},
   "outputs": [
    {
     "name": "stdout",
     "output_type": "stream",
     "text": [
      "******\n"
     ]
    }
   ],
   "source": [
    "#write a program thar reads a word and print stars(*) equal to length of the word \n",
    "a = input()\n",
    "length_of_a = len(a)\n",
    "print(\"*\"*length_of_a)"
   ]
  },
  {
   "cell_type": "code",
   "execution_count": 4,
   "metadata": {},
   "outputs": [
    {
     "name": "stdout",
     "output_type": "stream",
     "text": [
      "2\n"
     ]
    }
   ],
   "source": [
    "#write a program that reads a word and print L-1 where L is the length of the word\n",
    "a = input()\n",
    "length_of_a = len(a) - 1\n",
    "print(length_of_a)"
   ]
  },
  {
   "cell_type": "code",
   "execution_count": 6,
   "metadata": {},
   "outputs": [
    {
     "name": "stdout",
     "output_type": "stream",
     "text": [
      "5\n"
     ]
    }
   ],
   "source": [
    "#write a program that reads a word and print the index of the last character of the word\n",
    "word = input()\n",
    "print(len(word)-1)"
   ]
  },
  {
   "cell_type": "code",
   "execution_count": 1,
   "metadata": {},
   "outputs": [
    {
     "name": "stdout",
     "output_type": "stream",
     "text": [
      "i\n"
     ]
    }
   ],
   "source": [
    "#Write a program which prints the last character of a given word.\n",
    "word = input() \n",
    "print(word[-1])"
   ]
  },
  {
   "cell_type": "code",
   "execution_count": 2,
   "metadata": {},
   "outputs": [
    {
     "name": "stdout",
     "output_type": "stream",
     "text": [
      "12\n"
     ]
    }
   ],
   "source": [
    "#write a program that reads a word and prints the length of the word excludling the first and last chatacter\n",
    "word = input()\n",
    "length_of_word = len(word)\n",
    "excluding_first_and_last_character= length_of_word - 2\n",
    "print(excluding_first_and_last_character)"
   ]
  },
  {
   "cell_type": "code",
   "execution_count": 5,
   "metadata": {},
   "outputs": [
    {
     "name": "stdout",
     "output_type": "stream",
     "text": [
      "V*****\n"
     ]
    }
   ],
   "source": [
    "#write a program that reads a word and print the first letter of the given word and stars(*) instead of the other letters.\n",
    "word = input()\n",
    "length_of_word = len(word) - 1\n",
    "print(word[0]+ \"*\" * length_of_word) "
   ]
  },
  {
   "cell_type": "code",
   "execution_count": 6,
   "metadata": {},
   "outputs": [
    {
     "name": "stdout",
     "output_type": "stream",
     "text": [
      "4.0\n"
     ]
    }
   ],
   "source": [
    "#write a program that reads a word and print half the length of the word \n",
    "word = input()\n",
    "length_of_word = len(word)\n",
    "half_of_word = length_of_word / 2\n",
    "print(half_of_word) "
   ]
  },
  {
   "cell_type": "code",
   "execution_count": 3,
   "metadata": {},
   "outputs": [
    {
     "name": "stdout",
     "output_type": "stream",
     "text": [
      "* *\n",
      "* *\n",
      "* *\n"
     ]
    }
   ],
   "source": [
    "#Write a program that prints a simple rectangle using stars(*)\n",
    "print(\"* \"+\"*\")\n",
    "print(\"* \"+\"*\")\n",
    "print(\"* \"+\"*\")"
   ]
  },
  {
   "cell_type": "code",
   "execution_count": 5,
   "metadata": {},
   "outputs": [
    {
     "name": "stdout",
     "output_type": "stream",
     "text": [
      "* * *\n",
      "* * *\n",
      "* * *\n"
     ]
    }
   ],
   "source": [
    "#Write a program that prints a simple square using stars(*)\n",
    "print(\"* \"+\"*\"+\" *\") \n",
    "print(\"* \"+\"*\"+\" *\") \n",
    "print(\"* \"+\"*\"+\" *\") "
   ]
  },
  {
   "cell_type": "code",
   "execution_count": 6,
   "metadata": {},
   "outputs": [
    {
     "name": "stdout",
     "output_type": "stream",
     "text": [
      "* \n",
      "* *\n",
      "* * *\n"
     ]
    }
   ],
   "source": [
    "#Write a program that prints a simple triangle using stars(*)\n",
    "print(\"* \")\n",
    "print(\"* \"+\"*\")\n",
    "print(\"* \"+\"*\"+\" *\") "
   ]
  },
  {
   "cell_type": "code",
   "execution_count": 12,
   "metadata": {},
   "outputs": [
    {
     "name": "stdout",
     "output_type": "stream",
     "text": [
      "****** Vamshi ******\n"
     ]
    }
   ],
   "source": [
    "#write a program that reads a word and print the word in the given format \n",
    "word = \"Vamshi\"\n",
    "print(\"*\"*len(word)+\" \"+word+\" \"+ \"*\"*len(word))"
   ]
  },
  {
   "cell_type": "code",
   "execution_count": 13,
   "metadata": {},
   "outputs": [
    {
     "name": "stdout",
     "output_type": "stream",
     "text": [
      "2\n"
     ]
    }
   ],
   "source": [
    "#write a program that reads two words w1 and w2.w2 is the beginning of w1.Print the index at which w2 ends in w1 \n",
    "w1 = 'Midterm'\n",
    "w2 = 'Mid'\n",
    "index = len(w2)-1\n",
    "print(index)\n"
   ]
  },
  {
   "cell_type": "code",
   "execution_count": 14,
   "metadata": {},
   "outputs": [
    {
     "name": "stdout",
     "output_type": "stream",
     "text": [
      "Krishna\n",
      "###\n",
      "Vamshi\n"
     ]
    }
   ],
   "source": [
    "#write a program that reads two words A and B and prints the given word in reverse order seperated by ###?\n",
    "A = \"Vamshi\"\n",
    "B = \"Krishna\"\n",
    "print(B)\n",
    "print(\"###\")\n",
    "print(A)"
   ]
  },
  {
   "cell_type": "code",
   "execution_count": 15,
   "metadata": {},
   "outputs": [
    {
     "name": "stdout",
     "output_type": "stream",
     "text": [
      "P\n",
      "g\n"
     ]
    }
   ],
   "source": [
    "#write a program that reads two words and prints the first and last word in two lines\n",
    "words  = \"Python programming\"\n",
    "print(words[0])\n",
    "print(words[-1])"
   ]
  },
  {
   "cell_type": "code",
   "execution_count": 17,
   "metadata": {},
   "outputs": [
    {
     "name": "stdout",
     "output_type": "stream",
     "text": [
      "abc\n"
     ]
    }
   ],
   "source": [
    "#You are given three strings as input.Write a program to print the first character of each string\n",
    "a = \"apple\"\n",
    "b = \"banana\"\n",
    "c = \"carrot\"\n",
    "print(a[0]+b[0]+c[0])"
   ]
  },
  {
   "cell_type": "code",
   "execution_count": 19,
   "metadata": {},
   "outputs": [
    {
     "name": "stdout",
     "output_type": "stream",
     "text": [
      "q*********0\n"
     ]
    }
   ],
   "source": [
    "#write a program that reads a string and prints the first and last character of the given string and prints the stars(*) instead of the remaining characters \n",
    "string = \"qwerty@2020\"\n",
    "first_char = string[0]\n",
    "last_char = string[-1]\n",
    "print(first_char+\"*\"*(len(string)-2) + last_char)  "
   ]
  },
  {
   "cell_type": "code",
   "execution_count": null,
   "metadata": {},
   "outputs": [],
   "source": []
  }
 ],
 "metadata": {
  "kernelspec": {
   "display_name": "Python 3",
   "language": "python",
   "name": "python3"
  },
  "language_info": {
   "codemirror_mode": {
    "name": "ipython",
    "version": 3
   },
   "file_extension": ".py",
   "mimetype": "text/x-python",
   "name": "python",
   "nbconvert_exporter": "python",
   "pygments_lexer": "ipython3",
   "version": "3.12.2"
  }
 },
 "nbformat": 4,
 "nbformat_minor": 2
}
