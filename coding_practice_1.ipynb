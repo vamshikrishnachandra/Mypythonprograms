{
 "cells": [
  {
   "cell_type": "code",
   "execution_count": 1,
   "metadata": {},
   "outputs": [
    {
     "name": "stdout",
     "output_type": "stream",
     "text": [
      "Hello World\n"
     ]
    }
   ],
   "source": [
    "# Question: Hello World\n",
    "# In this coding question, you need to write a program that prints Hello World as output.\n",
    "print(\"Hello World\")"
   ]
  },
  {
   "cell_type": "code",
   "execution_count": 2,
   "metadata": {},
   "outputs": [
    {
     "name": "stdout",
     "output_type": "stream",
     "text": [
      "###\n"
     ]
    }
   ],
   "source": [
    "# Question: Three Hashes\n",
    "# Write a program that prints three hashes # as output.\n",
    "print(\"###\")"
   ]
  },
  {
   "cell_type": "code",
   "execution_count": 1,
   "metadata": {},
   "outputs": [
    {
     "name": "stdout",
     "output_type": "stream",
     "text": [
      "791853\n"
     ]
    }
   ],
   "source": [
    "# Question: Sum of 2495 and 789358\n",
    "# In this coding question, you need to write a program that calculates the sum of two numbers, 2495 and 789358, and then prints the result\n",
    "a = 2495 \n",
    "b = 789358\t\n",
    "print(a+b)"
   ]
  },
  {
   "cell_type": "code",
   "execution_count": 2,
   "metadata": {},
   "outputs": [
    {
     "name": "stdout",
     "output_type": "stream",
     "text": [
      "-193260\n"
     ]
    }
   ],
   "source": [
    "# Question: Subtract 596 from 193856\n",
    "# In this coding question, you need to write a program that prints the result when 596 is subtracted from 193856.\n",
    "print(596-193856)"
   ]
  },
  {
   "cell_type": "code",
   "execution_count": 3,
   "metadata": {},
   "outputs": [
    {
     "name": "stdout",
     "output_type": "stream",
     "text": [
      "739381\n"
     ]
    }
   ],
   "source": [
    "# create a program that multiplies 37, 61, and 391, and then shows us the result.\n",
    "print(31*61*391)"
   ]
  },
  {
   "cell_type": "code",
   "execution_count": 4,
   "metadata": {},
   "outputs": [
    {
     "name": "stdout",
     "output_type": "stream",
     "text": [
      "193.0\n"
     ]
    }
   ],
   "source": [
    "#  create a program that divides 33968 by 176 and shows us the result. \n",
    "print(33968/176)"
   ]
  }
 ],
 "metadata": {
  "kernelspec": {
   "display_name": "Python 3",
   "language": "python",
   "name": "python3"
  },
  "language_info": {
   "codemirror_mode": {
    "name": "ipython",
    "version": 3
   },
   "file_extension": ".py",
   "mimetype": "text/x-python",
   "name": "python",
   "nbconvert_exporter": "python",
   "pygments_lexer": "ipython3",
   "version": "3.12.2"
  }
 },
 "nbformat": 4,
 "nbformat_minor": 2
}
