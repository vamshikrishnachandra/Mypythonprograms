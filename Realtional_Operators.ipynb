{
 "cells": [
  {
   "cell_type": "code",
   "execution_count": 1,
   "metadata": {},
   "outputs": [
    {
     "name": "stdout",
     "output_type": "stream",
     "text": [
      "True\n"
     ]
    }
   ],
   "source": [
    "#write a program that a number and checks if the given number is greater than 70.\n",
    "num = int(input())\n",
    "number_greater_than_70 = num > 70 \n",
    "print(number_greater_than_70)"
   ]
  },
  {
   "cell_type": "code",
   "execution_count": 3,
   "metadata": {},
   "outputs": [
    {
     "name": "stdout",
     "output_type": "stream",
     "text": [
      "False\n"
     ]
    }
   ],
   "source": [
    "#write a program that reads two numbers and checks if the first number is greater than the second number\n",
    "first = int(input())\n",
    "second = int(input())\n",
    "is_greater = first > second\n",
    "print(is_greater)"
   ]
  },
  {
   "cell_type": "code",
   "execution_count": 5,
   "metadata": {},
   "outputs": [
    {
     "name": "stdout",
     "output_type": "stream",
     "text": [
      "False\n"
     ]
    }
   ],
   "source": [
    "#write a program that reads a number and checks if the given number is a negative number.\n",
    "num = int(input())\n",
    "is_negative = num < 0\n",
    "print(is_negative)"
   ]
  },
  {
   "cell_type": "code",
   "execution_count": 6,
   "metadata": {},
   "outputs": [
    {
     "name": "stdout",
     "output_type": "stream",
     "text": [
      "True\n"
     ]
    }
   ],
   "source": [
    "#write a program that reads two word and checks if the given two words are the same.\n",
    "word1 = input()\n",
    "word2 = input()\n",
    "is_same = word1 == word2 \n",
    "print(is_same)"
   ]
  },
  {
   "cell_type": "code",
   "execution_count": 8,
   "metadata": {},
   "outputs": [
    {
     "name": "stdout",
     "output_type": "stream",
     "text": [
      "True\n"
     ]
    }
   ],
   "source": [
    "#write a program that read a day number and checks if the given day is Sunday\n",
    "day = int(input())\n",
    "is_sunday = day == 7 \n",
    "print(is_sunday)"
   ]
  },
  {
   "cell_type": "code",
   "execution_count": 10,
   "metadata": {},
   "outputs": [
    {
     "name": "stdout",
     "output_type": "stream",
     "text": [
      "False\n"
     ]
    }
   ],
   "source": [
    "#write a program that reads two numbers and checks if the given two numbers are not the same.\n",
    "num1 = int(input())\n",
    "num2 = int(input())\n",
    "is_not_equal = num1 != num2\n",
    "print(is_not_equal)"
   ]
  },
  {
   "cell_type": "code",
   "execution_count": 13,
   "metadata": {},
   "outputs": [
    {
     "name": "stdout",
     "output_type": "stream",
     "text": [
      "A >= B is: False\n"
     ]
    }
   ],
   "source": [
    "# Write a program that reads two numbers A and B and checks if A is greater than or equal to B. Print the result as shown in the sample output.\n",
    "num1 = float(input())\n",
    "num2 = float(input())\n",
    "is_greater = num1 > num2 \n",
    "print(\"A >= B is: \"+ str(is_greater))"
   ]
  },
  {
   "cell_type": "code",
   "execution_count": 14,
   "metadata": {},
   "outputs": [
    {
     "name": "stdout",
     "output_type": "stream",
     "text": [
      "True\n"
     ]
    }
   ],
   "source": [
    "# Write a program that reads two numbers A and B and checks if A is greater than or equal to B. Print the result as shown in the sample output.\n",
    "num1 = int(input())\n",
    "num2 = float(input())\n",
    "is_lesser = num1 < num2 \n",
    "print(is_lesser)"
   ]
  },
  {
   "cell_type": "code",
   "execution_count": 17,
   "metadata": {},
   "outputs": [
    {
     "name": "stdout",
     "output_type": "stream",
     "text": [
      "A > B is True\n"
     ]
    }
   ],
   "source": [
    "# write a simple Python program to compare two numbers, A and B, and check if A is greater than B. We will print the result as \"A > B is True\" if A is greater than B, and \"A > B is False\" if A is not greater than B.\n",
    "num1 = int(input())\n",
    "num2 = int(input())\n",
    "is_greater = num1 > num2 \n",
    "print(\"A > B is \"+ str(is_greater))"
   ]
  },
  {
   "cell_type": "code",
   "execution_count": 22,
   "metadata": {},
   "outputs": [
    {
     "name": "stdout",
     "output_type": "stream",
     "text": [
      "True\n"
     ]
    }
   ],
   "source": [
    "# Write a program that reads two numbers A and B, and checks if B is greater than A by one.\n",
    "num1 = int(input())\n",
    "num2 = int(input())\n",
    "difference = num2 - num1\n",
    "result = difference == 1\n",
    "print(result)"
   ]
  },
  {
   "cell_type": "code",
   "execution_count": 23,
   "metadata": {},
   "outputs": [
    {
     "name": "stdout",
     "output_type": "stream",
     "text": [
      "True\n"
     ]
    }
   ],
   "source": [
    "# Write a program that reads a word and checks if the first letter and last letter of the word are not the same. \n",
    "word = input()\n",
    "first_word = word[0]\n",
    "last_word = word[-1]\n",
    "is_not_same = first_word != last_word\n",
    "print(is_not_same)"
   ]
  },
  {
   "cell_type": "code",
   "execution_count": 27,
   "metadata": {},
   "outputs": [
    {
     "name": "stdout",
     "output_type": "stream",
     "text": [
      "True\n"
     ]
    }
   ],
   "source": [
    "# Write a program that reads a digit number N.The N consists of only two digits.Check if the sum of the digits of N is greater than 7.\n",
    "num = input()\n",
    "first_num = num[0]\n",
    "first_num = int(first_num)\n",
    "second_num = num[1]\n",
    "second_num = int(second_num)\n",
    "sum_is_equal_7 = first_num + second_num > 7 \n",
    "print(sum_is_equal_7)"
   ]
  },
  {
   "cell_type": "code",
   "execution_count": 30,
   "metadata": {},
   "outputs": [
    {
     "name": "stdout",
     "output_type": "stream",
     "text": [
      "True\n"
     ]
    }
   ],
   "source": [
    "#Write a program to check if the given string is a valid password or not. A string is considered as a valid password if the number of characters present is greater than 7.\n",
    "password = input()\n",
    "length_of_password = len(password)\n",
    "is_valid_password = length_of_password > 7\n",
    "print(is_valid_password)"
   ]
  },
  {
   "cell_type": "code",
   "execution_count": 2,
   "metadata": {},
   "outputs": [
    {
     "name": "stdout",
     "output_type": "stream",
     "text": [
      "True\n"
     ]
    }
   ],
   "source": [
    "#write a program thatreads two words A and B and checks if the second word B ia the last part of the first word A.\n",
    "word = input()\n",
    "part = input()\n",
    "length_of_word = len(word)\n",
    "length_of_last = len(part)\n",
    "start_index = length_of_word - length_of_last\n",
    "part1 = word[start_index:]\n",
    "is_equal = part == part1\n",
    "print(is_equal)"
   ]
  },
  {
   "cell_type": "code",
   "execution_count": 3,
   "metadata": {},
   "outputs": [
    {
     "name": "stdout",
     "output_type": "stream",
     "text": [
      "True\n"
     ]
    }
   ],
   "source": [
    "#Write a program that reads two words A, B, and an index I. Check if B starts at index I in A.\n",
    "first_string = input()\n",
    "second_string = input()\n",
    "start_index = int(input())\n",
    "length_of_second_string = len(second_string)\n",
    "index = start_index + length_of_second_string\n",
    "is_equal = second_string == first_string[start_index:index]\n",
    "print(is_equal)\n"
   ]
  },
  {
   "cell_type": "code",
   "execution_count": 6,
   "metadata": {},
   "outputs": [
    {
     "name": "stdout",
     "output_type": "stream",
     "text": [
      "True\n"
     ]
    }
   ],
   "source": [
    "# Question: Compare First Three Characters\n",
    "# Write a program to check if the first three characters in the two given strings are the same.\n",
    "first_string = input()\n",
    "second_string = input()\n",
    "is_equal = first_string[:3] == second_string[:3]\n",
    "print(is_equal)"
   ]
  },
  {
   "cell_type": "code",
   "execution_count": 11,
   "metadata": {},
   "outputs": [
    {
     "name": "stdout",
     "output_type": "stream",
     "text": [
      "True\n",
      "True\n"
     ]
    }
   ],
   "source": [
    "#Write a program that reads a two-digit number N and checks,\n",
    "# If the number N is greater than 25 \n",
    "#  If the number N is greater than the second digit of N.\n",
    "num = input()\n",
    "first_num = num[0]\n",
    "second_num = num[1]\n",
    "is_greater_25 = int(num) > 25\n",
    "is_second_num_greater = int(first_num) > int(second_num)\n",
    "print(is_greater_25)\n",
    "print(is_second_num_greater) "
   ]
  },
  {
   "cell_type": "code",
   "execution_count": 13,
   "metadata": {},
   "outputs": [
    {
     "name": "stdout",
     "output_type": "stream",
     "text": [
      "False\n"
     ]
    }
   ],
   "source": [
    "first_num = input()\n",
    "second_num = input()\n",
    "first_digit = first_num[0]\n",
    "last_digit = second_num[-1]\n",
    "is_equal = int(first_digit) != int(last_digit)\n",
    "print(is_equal)"
   ]
  },
  {
   "cell_type": "code",
   "execution_count": 14,
   "metadata": {},
   "outputs": [
    {
     "name": "stdout",
     "output_type": "stream",
     "text": [
      "True\n"
     ]
    }
   ],
   "source": [
    "#write a program if the last three characters of the two given string are tehe same \n",
    "word = input()\n",
    "word1 = input()\n",
    "last_three_char_word = word[-3]\n",
    "last_three_char_word1 = word1[-3]\n",
    "is_equal = last_three_char_word == last_three_char_word1\n",
    "print(is_equal)"
   ]
  },
  {
   "cell_type": "code",
   "execution_count": 18,
   "metadata": {},
   "outputs": [
    {
     "name": "stdout",
     "output_type": "stream",
     "text": [
      "True\n"
     ]
    }
   ],
   "source": [
    "#write a program that reads a percentage p and a nnumber N and checks if the p percentage of 500 is equal to the number N.\n",
    "num1 = int(input())\n",
    "num2 = int(input())\n",
    "value = (num1/100) * 500 \n",
    "is_equal = value == num2\n",
    "print(is_equal)"
   ]
  },
  {
   "cell_type": "code",
   "execution_count": 20,
   "metadata": {},
   "outputs": [
    {
     "name": "stdout",
     "output_type": "stream",
     "text": [
      "True\n"
     ]
    }
   ],
   "source": [
    "#write a program that reads the length and breadth of the rectangle and checks if the area of the rectangle is less than or equal to the perimeter of the rectangle\n",
    "length = int(input())\n",
    "breath = int(input())\n",
    "Area_of_rectangle = length * breath\n",
    "perimeter_of_rectangle = 2*(length+breath)\n",
    "is_equal = Area_of_rectangle <= perimeter_of_rectangle\n",
    "print(is_equal)"
   ]
  },
  {
   "cell_type": "code",
   "execution_count": 21,
   "metadata": {},
   "outputs": [
    {
     "name": "stdout",
     "output_type": "stream",
     "text": [
      "A <= B is  False\n",
      "B <= A is  True\n"
     ]
    }
   ],
   "source": [
    "#Write a program that reads two numbers A and B and checks,\n",
    "# If A is less than or equal to B \n",
    "# If B is less than or equal to A \n",
    "A = int(input())\n",
    "B = int(input())\n",
    "is_less_than =  A <= B \n",
    "is_less_than_or_equal = B <= A \n",
    "print(\"A <= B is \",is_less_than)\n",
    "print(\"B <= A is \",is_less_than_or_equal)"
   ]
  },
  {
   "cell_type": "code",
   "execution_count": 22,
   "metadata": {},
   "outputs": [
    {
     "name": "stdout",
     "output_type": "stream",
     "text": [
      "True\n"
     ]
    }
   ],
   "source": [
    "#Write a program that reads a string and a number N and checks if the irst N characters of the string and last N charcter of the string are not he same otherwise False should be printed \n",
    "word = input()\n",
    "index = int(input())\n",
    "first_word = word[:3]\n",
    "last_word = word[-3]\n",
    "is_not_word = first_word != last_word\n",
    "print(is_not_word)  "
   ]
  },
  {
   "cell_type": "code",
   "execution_count": 23,
   "metadata": {},
   "outputs": [
    {
     "name": "stdout",
     "output_type": "stream",
     "text": [
      "True\n"
     ]
    }
   ],
   "source": [
    "#Write a program that reads the selling price S and buying price B of a product and checks if S is greater than B\n",
    "selling_price = int(input())\n",
    "buying_price = int(input())\n",
    "is_greater = selling_price > buying_price\n",
    "print(is_greater)"
   ]
  },
  {
   "cell_type": "code",
   "execution_count": 25,
   "metadata": {},
   "outputs": [
    {
     "name": "stdout",
     "output_type": "stream",
     "text": [
      "True\n"
     ]
    }
   ],
   "source": [
    "s1 = input()\n",
    "s2 = input()\n",
    "length_of_s2 = len(s2)\n",
    "is_equal = s1[:length_of_s2] == s2 \n",
    "print(is_equal)"
   ]
  },
  {
   "cell_type": "code",
   "execution_count": null,
   "metadata": {},
   "outputs": [],
   "source": []
  }
 ],
 "metadata": {
  "kernelspec": {
   "display_name": "Python 3",
   "language": "python",
   "name": "python3"
  },
  "language_info": {
   "codemirror_mode": {
    "name": "ipython",
    "version": 3
   },
   "file_extension": ".py",
   "mimetype": "text/x-python",
   "name": "python",
   "nbconvert_exporter": "python",
   "pygments_lexer": "ipython3",
   "version": "3.12.2"
  }
 },
 "nbformat": 4,
 "nbformat_minor": 2
}
