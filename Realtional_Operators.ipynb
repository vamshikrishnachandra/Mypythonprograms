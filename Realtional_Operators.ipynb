{
 "cells": [
  {
   "cell_type": "code",
   "execution_count": 1,
   "metadata": {},
   "outputs": [
    {
     "name": "stdout",
     "output_type": "stream",
     "text": [
      "True\n"
     ]
    }
   ],
   "source": [
    "#write a program that a number and checks if the given number is greater than 70.\n",
    "num = int(input())\n",
    "number_greater_than_70 = num > 70 \n",
    "print(number_greater_than_70)"
   ]
  },
  {
   "cell_type": "code",
   "execution_count": 3,
   "metadata": {},
   "outputs": [
    {
     "name": "stdout",
     "output_type": "stream",
     "text": [
      "False\n"
     ]
    }
   ],
   "source": [
    "#write a program that reads two numbers and checks if the first number is greater than the second number\n",
    "first = int(input())\n",
    "second = int(input())\n",
    "is_greater = first > second\n",
    "print(is_greater)"
   ]
  },
  {
   "cell_type": "code",
   "execution_count": 5,
   "metadata": {},
   "outputs": [
    {
     "name": "stdout",
     "output_type": "stream",
     "text": [
      "False\n"
     ]
    }
   ],
   "source": [
    "#write a program that reads a number and checks if the given number is a negative number.\n",
    "num = int(input())\n",
    "is_negative = num < 0\n",
    "print(is_negative)"
   ]
  },
  {
   "cell_type": "code",
   "execution_count": 6,
   "metadata": {},
   "outputs": [
    {
     "name": "stdout",
     "output_type": "stream",
     "text": [
      "True\n"
     ]
    }
   ],
   "source": [
    "#write a program that reads two word and checks if the given two words are the same.\n",
    "word1 = input()\n",
    "word2 = input()\n",
    "is_same = word1 == word2 \n",
    "print(is_same)"
   ]
  },
  {
   "cell_type": "code",
   "execution_count": 8,
   "metadata": {},
   "outputs": [
    {
     "name": "stdout",
     "output_type": "stream",
     "text": [
      "True\n"
     ]
    }
   ],
   "source": [
    "#write a program that read a day number and checks if the given day is Sunday\n",
    "day = int(input())\n",
    "is_sunday = day == 7 \n",
    "print(is_sunday)"
   ]
  },
  {
   "cell_type": "code",
   "execution_count": 10,
   "metadata": {},
   "outputs": [
    {
     "name": "stdout",
     "output_type": "stream",
     "text": [
      "False\n"
     ]
    }
   ],
   "source": [
    "#write a program that reads two numbers and checks if the given two numbers are not the same.\n",
    "num1 = int(input())\n",
    "num2 = int(input())\n",
    "is_not_equal = num1 != num2\n",
    "print(is_not_equal)"
   ]
  },
  {
   "cell_type": "code",
   "execution_count": 13,
   "metadata": {},
   "outputs": [
    {
     "name": "stdout",
     "output_type": "stream",
     "text": [
      "A >= B is: False\n"
     ]
    }
   ],
   "source": [
    "# Write a program that reads two numbers A and B and checks if A is greater than or equal to B. Print the result as shown in the sample output.\n",
    "num1 = float(input())\n",
    "num2 = float(input())\n",
    "is_greater = num1 > num2 \n",
    "print(\"A >= B is: \"+ str(is_greater))"
   ]
  },
  {
   "cell_type": "code",
   "execution_count": 14,
   "metadata": {},
   "outputs": [
    {
     "name": "stdout",
     "output_type": "stream",
     "text": [
      "True\n"
     ]
    }
   ],
   "source": [
    "# Write a program that reads two numbers A and B and checks if A is greater than or equal to B. Print the result as shown in the sample output.\n",
    "num1 = int(input())\n",
    "num2 = float(input())\n",
    "is_lesser = num1 < num2 \n",
    "print(is_lesser)"
   ]
  },
  {
   "cell_type": "code",
   "execution_count": 17,
   "metadata": {},
   "outputs": [
    {
     "name": "stdout",
     "output_type": "stream",
     "text": [
      "A > B is True\n"
     ]
    }
   ],
   "source": [
    "# write a simple Python program to compare two numbers, A and B, and check if A is greater than B. We will print the result as \"A > B is True\" if A is greater than B, and \"A > B is False\" if A is not greater than B.\n",
    "num1 = int(input())\n",
    "num2 = int(input())\n",
    "is_greater = num1 > num2 \n",
    "print(\"A > B is \"+ str(is_greater))"
   ]
  },
  {
   "cell_type": "code",
   "execution_count": 22,
   "metadata": {},
   "outputs": [
    {
     "name": "stdout",
     "output_type": "stream",
     "text": [
      "True\n"
     ]
    }
   ],
   "source": [
    "# Write a program that reads two numbers A and B, and checks if B is greater than A by one.\n",
    "num1 = int(input())\n",
    "num2 = int(input())\n",
    "difference = num2 - num1\n",
    "result = difference == 1\n",
    "print(result)"
   ]
  },
  {
   "cell_type": "code",
   "execution_count": 23,
   "metadata": {},
   "outputs": [
    {
     "name": "stdout",
     "output_type": "stream",
     "text": [
      "True\n"
     ]
    }
   ],
   "source": [
    "# Write a program that reads a word and checks if the first letter and last letter of the word are not the same. \n",
    "word = input()\n",
    "first_word = word[0]\n",
    "last_word = word[-1]\n",
    "is_not_same = first_word != last_word\n",
    "print(is_not_same)"
   ]
  },
  {
   "cell_type": "code",
   "execution_count": 27,
   "metadata": {},
   "outputs": [
    {
     "name": "stdout",
     "output_type": "stream",
     "text": [
      "True\n"
     ]
    }
   ],
   "source": [
    "# Write a program that reads a digit number N.The N consists of only two digits.Check if the sum of the digits of N is greater than 7.\n",
    "num = input()\n",
    "first_num = num[0]\n",
    "first_num = int(first_num)\n",
    "second_num = num[1]\n",
    "second_num = int(second_num)\n",
    "sum_is_equal_7 = first_num + second_num > 7 \n",
    "print(sum_is_equal_7)"
   ]
  },
  {
   "cell_type": "code",
   "execution_count": 30,
   "metadata": {},
   "outputs": [
    {
     "name": "stdout",
     "output_type": "stream",
     "text": [
      "True\n"
     ]
    }
   ],
   "source": [
    "#Write a program to check if the given string is a valid password or not. A string is considered as a valid password if the number of characters present is greater than 7.\n",
    "password = input()\n",
    "length_of_password = len(password)\n",
    "is_valid_password = length_of_password > 7\n",
    "print(is_valid_password)"
   ]
  },
  {
   "cell_type": "code",
   "execution_count": null,
   "metadata": {},
   "outputs": [],
   "source": []
  }
 ],
 "metadata": {
  "kernelspec": {
   "display_name": "Python 3",
   "language": "python",
   "name": "python3"
  },
  "language_info": {
   "codemirror_mode": {
    "name": "ipython",
    "version": 3
   },
   "file_extension": ".py",
   "mimetype": "text/x-python",
   "name": "python",
   "nbconvert_exporter": "python",
   "pygments_lexer": "ipython3",
   "version": "3.12.2"
  }
 },
 "nbformat": 4,
 "nbformat_minor": 2
}
